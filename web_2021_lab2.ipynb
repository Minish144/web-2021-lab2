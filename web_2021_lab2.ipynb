{
  "nbformat": 4,
  "nbformat_minor": 0,
  "metadata": {
    "colab": {
      "name": "web-2021-lab2.ipynb",
      "provenance": [],
      "collapsed_sections": [],
      "authorship_tag": "ABX9TyOl1kJnMeFPIMmBV3QnBaZh",
      "include_colab_link": true
    },
    "kernelspec": {
      "name": "python3",
      "display_name": "Python 3"
    }
  },
  "cells": [
    {
      "cell_type": "markdown",
      "metadata": {
        "id": "view-in-github",
        "colab_type": "text"
      },
      "source": [
        "<a href=\"https://colab.research.google.com/github/Minish144/web-2021-lab2/blob/master/web_2021_lab2.ipynb\" target=\"_parent\"><img src=\"https://colab.research.google.com/assets/colab-badge.svg\" alt=\"Open In Colab\"/></a>"
      ]
    },
    {
      "cell_type": "markdown",
      "metadata": {
        "id": "ufOLvo-xkvs_"
      },
      "source": [
        "Attach your .env file with your VK token to the root dir of project\n",
        "\n",
        "i.e.\n",
        "```\n",
        "TOKEN=2098tjrc30847rtyhw7rjsxas0fj89serfx347t\n",
        "```\n",
        "\n"
      ]
    },
    {
      "cell_type": "code",
      "metadata": {
        "colab": {
          "base_uri": "https://localhost:8080/"
        },
        "id": "7S4I8K7ElDB2",
        "outputId": "ab332627-fdcc-4690-f935-dc14ee9e00bb"
      },
      "source": [
        "# Installing pip packages (vk-api and dotenv) in the current Jupyter kernel\n",
        "import sys\n",
        "!{sys.executable} -m pip install vk-api\n",
        "!{sys.executable} -m pip install python-dotenv"
      ],
      "execution_count": 209,
      "outputs": [
        {
          "output_type": "stream",
          "text": [
            "Requirement already satisfied: vk-api in /usr/local/lib/python3.7/dist-packages (11.9.1)\n",
            "Requirement already satisfied: requests in /usr/local/lib/python3.7/dist-packages (from vk-api) (2.23.0)\n",
            "Requirement already satisfied: six in /usr/local/lib/python3.7/dist-packages (from vk-api) (1.15.0)\n",
            "Requirement already satisfied: certifi>=2017.4.17 in /usr/local/lib/python3.7/dist-packages (from requests->vk-api) (2020.12.5)\n",
            "Requirement already satisfied: chardet<4,>=3.0.2 in /usr/local/lib/python3.7/dist-packages (from requests->vk-api) (3.0.4)\n",
            "Requirement already satisfied: urllib3!=1.25.0,!=1.25.1,<1.26,>=1.21.1 in /usr/local/lib/python3.7/dist-packages (from requests->vk-api) (1.24.3)\n",
            "Requirement already satisfied: idna<3,>=2.5 in /usr/local/lib/python3.7/dist-packages (from requests->vk-api) (2.10)\n",
            "Requirement already satisfied: python-dotenv in /usr/local/lib/python3.7/dist-packages (0.15.0)\n"
          ],
          "name": "stdout"
        }
      ]
    },
    {
      "cell_type": "code",
      "metadata": {
        "id": "kb6Zmo-klXQa"
      },
      "source": [
        "import vk_api\n",
        "import os\n",
        "from dotenv import load_dotenv\n",
        "import json\n",
        "from google.colab import files"
      ],
      "execution_count": 210,
      "outputs": []
    },
    {
      "cell_type": "code",
      "metadata": {
        "colab": {
          "base_uri": "https://localhost:8080/",
          "height": 35
        },
        "id": "d7pJitLrlf0W",
        "outputId": "8537af33-d4be-4f7b-818a-4f2306b0edcb"
      },
      "source": [
        "# Loading token from .env file\n",
        "load_dotenv()\n",
        "token = os.getenv('TOKEN')\n",
        "token"
      ],
      "execution_count": 211,
      "outputs": [
        {
          "output_type": "execute_result",
          "data": {
            "application/vnd.google.colaboratory.intrinsic+json": {
              "type": "string"
            },
            "text/plain": [
              "'e1e312e4db62caa1ca11d0a907fdf0c32406ca68a86179dac01c6fefe5c23cc5f88ec7814448ec2ba3a5a'"
            ]
          },
          "metadata": {
            "tags": []
          },
          "execution_count": 211
        }
      ]
    },
    {
      "cell_type": "code",
      "metadata": {
        "colab": {
          "base_uri": "https://localhost:8080/"
        },
        "id": "iIhJ7X4Emmv4",
        "outputId": "692a5ee6-e3af-4074-9b1a-8d8b289e0352"
      },
      "source": [
        "vk = vk_api.VkApi(token=token).get_api()\n",
        "vk.__dict__"
      ],
      "execution_count": 212,
      "outputs": [
        {
          "output_type": "execute_result",
          "data": {
            "text/plain": [
              "<vk_api.vk_api.VkApiMethod at 0x7fab53635c90>"
            ]
          },
          "metadata": {
            "tags": []
          },
          "execution_count": 212
        }
      ]
    },
    {
      "cell_type": "markdown",
      "metadata": {
        "id": "ilKdSvAQrtL1"
      },
      "source": [
        "**Getting users from VK using vk_api**"
      ]
    },
    {
      "cell_type": "code",
      "metadata": {
        "colab": {
          "base_uri": "https://localhost:8080/"
        },
        "id": "0UVhSZzRnNbP",
        "outputId": "03ebcfe0-bd4a-44a1-8262-7805cd8b99b2"
      },
      "source": [
        "# Generating random user ids\n",
        "random_user_ids = list(range(1, 10000, 500))\n",
        "random_user_ids[:5]"
      ],
      "execution_count": 213,
      "outputs": [
        {
          "output_type": "execute_result",
          "data": {
            "text/plain": [
              "[1, 501, 1001, 1501, 2001]"
            ]
          },
          "metadata": {
            "tags": []
          },
          "execution_count": 213
        }
      ]
    },
    {
      "cell_type": "code",
      "metadata": {
        "colab": {
          "base_uri": "https://localhost:8080/"
        },
        "id": "UK2AAEMVrNVg",
        "outputId": "933fffb8-bc44-46c1-ebaf-37f5143c7ee2"
      },
      "source": [
        "users = vk.users.get(user_ids=random_user_ids)\n",
        "users[3:6]"
      ],
      "execution_count": 214,
      "outputs": [
        {
          "output_type": "execute_result",
          "data": {
            "text/plain": [
              "[{'can_access_closed': True,\n",
              "  'can_invite_to_chats': False,\n",
              "  'first_name': 'Дмитрий',\n",
              "  'id': 1501,\n",
              "  'is_closed': False,\n",
              "  'last_name': 'Мартюшев'},\n",
              " {'can_access_closed': True,\n",
              "  'can_invite_to_chats': False,\n",
              "  'first_name': 'Мария',\n",
              "  'id': 2001,\n",
              "  'is_closed': False,\n",
              "  'last_name': 'Шелепова'},\n",
              " {'can_invite_to_chats': False,\n",
              "  'deactivated': 'deleted',\n",
              "  'first_name': 'DELETED',\n",
              "  'id': 2501,\n",
              "  'last_name': ''}]"
            ]
          },
          "metadata": {
            "tags": []
          },
          "execution_count": 214
        }
      ]
    },
    {
      "cell_type": "code",
      "metadata": {
        "id": "FZVzEypxsI8W"
      },
      "source": [
        "# Generating dictionary to work with\n",
        "users_dict = {}\n",
        "for user in users:\n",
        "  id = str(user['id']) # stringifying to match json format \n",
        "  user.pop('id', None)\n",
        "  users_dict[id] = user"
      ],
      "execution_count": 215,
      "outputs": []
    },
    {
      "cell_type": "markdown",
      "metadata": {
        "id": "uuSmiajRr8Sc"
      },
      "source": [
        "**Gettings users' friends**"
      ]
    },
    {
      "cell_type": "code",
      "metadata": {
        "id": "w0hjQiB-rrhG"
      },
      "source": [
        "# Gettings user's friendlist, it takes around a minute\n",
        "for user_id, user_data in users_dict.items():\n",
        "  try: # if not user_data['is_closed'] and user_data['first_name] is not 'DELETED'\n",
        "    friends = vk.friends.get(user_id=user_id)\n",
        "    users_dict[user_id]['friends'] = friends\n",
        "  except Exception as e:\n",
        "    # print(e) # Uncomment to get errors from server\n",
        "    users_dict[user_id]['friends'] = {'count': 0, 'items': []}"
      ],
      "execution_count": 216,
      "outputs": []
    },
    {
      "cell_type": "code",
      "metadata": {
        "id": "hSy6rwpkyQGk"
      },
      "source": [
        "file = open('users.json', 'wt', encoding='utf-8')\n",
        "json.dump(users_dict, file, ensure_ascii=True, indent=4) \n",
        "file.close()"
      ],
      "execution_count": 217,
      "outputs": []
    },
    {
      "cell_type": "markdown",
      "metadata": {
        "id": "BeOxm6ts1LjT"
      },
      "source": [
        "**Run this to download JSON file**"
      ]
    },
    {
      "cell_type": "code",
      "metadata": {
        "colab": {
          "base_uri": "https://localhost:8080/",
          "height": 17
        },
        "id": "alYdbTJX01_p",
        "outputId": "620fb0e6-e838-4d9c-f220-a33d98c45dd3"
      },
      "source": [
        "files.download('users.json')"
      ],
      "execution_count": 218,
      "outputs": [
        {
          "output_type": "display_data",
          "data": {
            "application/javascript": [
              "\n",
              "    async function download(id, filename, size) {\n",
              "      if (!google.colab.kernel.accessAllowed) {\n",
              "        return;\n",
              "      }\n",
              "      const div = document.createElement('div');\n",
              "      const label = document.createElement('label');\n",
              "      label.textContent = `Downloading \"${filename}\": `;\n",
              "      div.appendChild(label);\n",
              "      const progress = document.createElement('progress');\n",
              "      progress.max = size;\n",
              "      div.appendChild(progress);\n",
              "      document.body.appendChild(div);\n",
              "\n",
              "      const buffers = [];\n",
              "      let downloaded = 0;\n",
              "\n",
              "      const channel = await google.colab.kernel.comms.open(id);\n",
              "      // Send a message to notify the kernel that we're ready.\n",
              "      channel.send({})\n",
              "\n",
              "      for await (const message of channel.messages) {\n",
              "        // Send a message to notify the kernel that we're ready.\n",
              "        channel.send({})\n",
              "        if (message.buffers) {\n",
              "          for (const buffer of message.buffers) {\n",
              "            buffers.push(buffer);\n",
              "            downloaded += buffer.byteLength;\n",
              "            progress.value = downloaded;\n",
              "          }\n",
              "        }\n",
              "      }\n",
              "      const blob = new Blob(buffers, {type: 'application/binary'});\n",
              "      const a = document.createElement('a');\n",
              "      a.href = window.URL.createObjectURL(blob);\n",
              "      a.download = filename;\n",
              "      div.appendChild(a);\n",
              "      a.click();\n",
              "      div.remove();\n",
              "    }\n",
              "  "
            ],
            "text/plain": [
              "<IPython.core.display.Javascript object>"
            ]
          },
          "metadata": {
            "tags": []
          }
        },
        {
          "output_type": "display_data",
          "data": {
            "application/javascript": [
              "download(\"download_224a6030-594f-4a23-878e-75e3bf6720ff\", \"users.json\", 209454)"
            ],
            "text/plain": [
              "<IPython.core.display.Javascript object>"
            ]
          },
          "metadata": {
            "tags": []
          }
        }
      ]
    },
    {
      "cell_type": "markdown",
      "metadata": {
        "id": "TQmNJCXK2kIS"
      },
      "source": [
        "\n",
        "---\n",
        "\n",
        "**Getting wall from VK using vk_api**"
      ]
    },
    {
      "cell_type": "code",
      "metadata": {
        "colab": {
          "base_uri": "https://localhost:8080/"
        },
        "id": "li01inQi2i-8",
        "outputId": "8d306a6e-ee5c-48a3-bde1-d06f52179c1b"
      },
      "source": [
        "# Generating random owner_ids\n",
        "random_group_ids = list(range(1, 15000, 500))\n",
        "random_group_ids[:5]"
      ],
      "execution_count": 219,
      "outputs": [
        {
          "output_type": "execute_result",
          "data": {
            "text/plain": [
              "[1, 501, 1001, 1501, 2001]"
            ]
          },
          "metadata": {
            "tags": []
          },
          "execution_count": 219
        }
      ]
    },
    {
      "cell_type": "markdown",
      "metadata": {
        "id": "RG_FtWKh-VQP"
      },
      "source": [
        "**Getting info about group**"
      ]
    },
    {
      "cell_type": "code",
      "metadata": {
        "id": "8__OWh_r3OIN"
      },
      "source": [
        "groups_dict = {}\n",
        "groups = vk.groups.getById(group_ids=random_group_ids)\n",
        "for group in groups:\n",
        "  id = str(group['id']) # stringifying to match json format \n",
        "  group.pop('id', None)\n",
        "  groups_dict[id] = group"
      ],
      "execution_count": 220,
      "outputs": []
    },
    {
      "cell_type": "markdown",
      "metadata": {
        "id": "6OsqcLp8-Yh1"
      },
      "source": [
        "**Getting wall posts from groups**"
      ]
    },
    {
      "cell_type": "code",
      "metadata": {
        "id": "YDF1061P5f1q"
      },
      "source": [
        "for group_id, group_data in groups_dict.items():\n",
        "  try:\n",
        "    posts = vk.wall.get(owner_id='-'+group_id)\n",
        "  except Exception as e:\n",
        "    # print(e) # Uncomment to get errors from server\n",
        "    posts = {'count': 0, 'items': []}\n",
        "  finally:\n",
        "    groups_dict[group_id]['posts'] = posts"
      ],
      "execution_count": 221,
      "outputs": []
    },
    {
      "cell_type": "code",
      "metadata": {
        "id": "Shqgb7fn9mA1"
      },
      "source": [
        "file = open('groups.json', 'wt', encoding='utf-8')\n",
        "json.dump(groups_dict, file, ensure_ascii=True, indent=4) \n",
        "file.close()"
      ],
      "execution_count": 222,
      "outputs": []
    },
    {
      "cell_type": "markdown",
      "metadata": {
        "id": "yxIL-53S-cyI"
      },
      "source": [
        "**Run this to download JSON file**"
      ]
    },
    {
      "cell_type": "code",
      "metadata": {
        "colab": {
          "base_uri": "https://localhost:8080/",
          "height": 17
        },
        "id": "8UIsUu_V9t09",
        "outputId": "83331dcd-d08f-4e67-8843-019be55f3c90"
      },
      "source": [
        "files.download('groups.json')"
      ],
      "execution_count": 223,
      "outputs": [
        {
          "output_type": "display_data",
          "data": {
            "application/javascript": [
              "\n",
              "    async function download(id, filename, size) {\n",
              "      if (!google.colab.kernel.accessAllowed) {\n",
              "        return;\n",
              "      }\n",
              "      const div = document.createElement('div');\n",
              "      const label = document.createElement('label');\n",
              "      label.textContent = `Downloading \"${filename}\": `;\n",
              "      div.appendChild(label);\n",
              "      const progress = document.createElement('progress');\n",
              "      progress.max = size;\n",
              "      div.appendChild(progress);\n",
              "      document.body.appendChild(div);\n",
              "\n",
              "      const buffers = [];\n",
              "      let downloaded = 0;\n",
              "\n",
              "      const channel = await google.colab.kernel.comms.open(id);\n",
              "      // Send a message to notify the kernel that we're ready.\n",
              "      channel.send({})\n",
              "\n",
              "      for await (const message of channel.messages) {\n",
              "        // Send a message to notify the kernel that we're ready.\n",
              "        channel.send({})\n",
              "        if (message.buffers) {\n",
              "          for (const buffer of message.buffers) {\n",
              "            buffers.push(buffer);\n",
              "            downloaded += buffer.byteLength;\n",
              "            progress.value = downloaded;\n",
              "          }\n",
              "        }\n",
              "      }\n",
              "      const blob = new Blob(buffers, {type: 'application/binary'});\n",
              "      const a = document.createElement('a');\n",
              "      a.href = window.URL.createObjectURL(blob);\n",
              "      a.download = filename;\n",
              "      div.appendChild(a);\n",
              "      a.click();\n",
              "      div.remove();\n",
              "    }\n",
              "  "
            ],
            "text/plain": [
              "<IPython.core.display.Javascript object>"
            ]
          },
          "metadata": {
            "tags": []
          }
        },
        {
          "output_type": "display_data",
          "data": {
            "application/javascript": [
              "download(\"download_4cbe5a55-eef7-4924-8c63-7e3ac81fc2b9\", \"groups.json\", 3930212)"
            ],
            "text/plain": [
              "<IPython.core.display.Javascript object>"
            ]
          },
          "metadata": {
            "tags": []
          }
        }
      ]
    }
  ]
}